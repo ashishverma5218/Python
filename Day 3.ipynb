{
 "cells": [
  {
   "cell_type": "code",
   "execution_count": 1,
   "id": "a544a6f9",
   "metadata": {},
   "outputs": [
    {
     "name": "stdout",
     "output_type": "stream",
     "text": [
      "the average is 6.5\n"
     ]
    }
   ],
   "source": [
    "#default arguments\n",
    "def average(a=9,b=4):\n",
    "    print(\"the average is\",(a+b)/2)\n",
    "    \n",
    "average()"
   ]
  },
  {
   "cell_type": "code",
   "execution_count": 2,
   "id": "d3d6525e",
   "metadata": {},
   "outputs": [
    {
     "name": "stdout",
     "output_type": "stream",
     "text": [
      "the average is 2.0\n"
     ]
    }
   ],
   "source": [
    "#overwrite and ignore 1st\n",
    "def average(a=9,b=4):\n",
    "    print(\"the average is\",(a+b)/2)\n",
    "    \n",
    "average(a=4,b=0)"
   ]
  },
  {
   "cell_type": "code",
   "execution_count": 3,
   "id": "49780474",
   "metadata": {},
   "outputs": [
    {
     "name": "stdout",
     "output_type": "stream",
     "text": [
      "Hello ashish verma ji\n"
     ]
    }
   ],
   "source": [
    "#mname lname is defalut for every input if you not overwrite\n",
    "def name(fname,mname=\"verma\",lname=\"ji\"):\n",
    "    print(\"Hello\",fname,mname,lname)\n",
    "name(\"ashish\")"
   ]
  },
  {
   "cell_type": "code",
   "execution_count": 4,
   "id": "d4abe681",
   "metadata": {},
   "outputs": [
    {
     "name": "stdout",
     "output_type": "stream",
     "text": [
      "the average is 5.5\n"
     ]
    }
   ],
   "source": [
    "#keyword arguments not required any order you can give give b before a\n",
    "def average(a=9,b=4):\n",
    "    print(\"the average is\",(a+b)/2)\n",
    "    \n",
    "average(b=3,a=8)"
   ]
  },
  {
   "cell_type": "code",
   "execution_count": 5,
   "id": "05b0be2f",
   "metadata": {},
   "outputs": [
    {
     "name": "stdout",
     "output_type": "stream",
     "text": [
      "the average is 5.5\n"
     ]
    }
   ],
   "source": [
    "#required arguments a and b  (c) is optional\n",
    "def average(a,b,c=8):\n",
    "    print(\"the average is\",(a+b)/2)\n",
    "    \n",
    "average(b=3,a=8)"
   ]
  },
  {
   "cell_type": "code",
   "execution_count": 10,
   "id": "8ba98e6a",
   "metadata": {},
   "outputs": [
    {
     "name": "stdout",
     "output_type": "stream",
     "text": [
      "<class 'tuple'>\n",
      "average is : 5.5\n"
     ]
    }
   ],
   "source": [
    "#variable length arguments\n",
    "def average(*numbers):\n",
    "    print(type(numbers))\n",
    "    sum=0\n",
    "    for i in numbers:\n",
    "        sum = sum +i\n",
    "    print(\"average is :\",sum/len(numbers))\n",
    "average(5,6)"
   ]
  },
  {
   "cell_type": "code",
   "execution_count": 15,
   "id": "bb98bdb2",
   "metadata": {},
   "outputs": [
    {
     "name": "stdout",
     "output_type": "stream",
     "text": [
      "<class 'dict'>\n",
      "hello, ashish verma ji\n"
     ]
    }
   ],
   "source": [
    "#keyword arbitary arguments\n",
    "def name(**name):\n",
    "    print(type(name))\n",
    "    print(\"hello,\",name[\"fname\"],name[\"mname\"],name[\"lname\"])\n",
    "\n",
    "name(fname=\"ashish\",lname=\"ji\",mname=\"verma\")"
   ]
  },
  {
   "cell_type": "code",
   "execution_count": 17,
   "id": "458394df",
   "metadata": {},
   "outputs": [
    {
     "name": "stdout",
     "output_type": "stream",
     "text": [
      "<class 'tuple'>\n",
      "4.0\n"
     ]
    }
   ],
   "source": [
    "#return statement\n",
    "def average(*numbers):\n",
    "    print(type(numbers))\n",
    "    sum=0\n",
    "    for i in numbers:\n",
    "        sum = sum +i\n",
    "    return sum/len(numbers)\n",
    "c=average(3,4,5)\n",
    "print(c)"
   ]
  },
  {
   "cell_type": "code",
   "execution_count": 18,
   "id": "3dc01ecd",
   "metadata": {},
   "outputs": [
    {
     "data": {
      "text/plain": [
       "[3, 'f', 5.5, -8, 'Royal', True]"
      ]
     },
     "execution_count": 18,
     "metadata": {},
     "output_type": "execute_result"
    }
   ],
   "source": [
    "marks=[3,'f',5.5,-8,\"Royal\",True]\n",
    "marks"
   ]
  },
  {
   "cell_type": "code",
   "execution_count": 21,
   "id": "1d498df5",
   "metadata": {},
   "outputs": [
    {
     "name": "stdout",
     "output_type": "stream",
     "text": [
      "3\n",
      "True\n",
      "-8\n",
      "5.5\n"
     ]
    }
   ],
   "source": [
    "print(marks[0])\n",
    "print(marks[-1])\n",
    "print(marks[len(marks)-3])\n",
    "print(marks[5-3])"
   ]
  },
  {
   "cell_type": "code",
   "execution_count": 22,
   "id": "4eb98448",
   "metadata": {},
   "outputs": [
    {
     "name": "stdout",
     "output_type": "stream",
     "text": [
      "no\n"
     ]
    }
   ],
   "source": [
    "if 7 in marks:\n",
    "    print(\"yes\")\n",
    "else:\n",
    "    print(\"no\")"
   ]
  },
  {
   "cell_type": "code",
   "execution_count": 23,
   "id": "f5f8cbb1",
   "metadata": {},
   "outputs": [
    {
     "name": "stdout",
     "output_type": "stream",
     "text": [
      "no\n"
     ]
    }
   ],
   "source": [
    "if \"3\" in marks:\n",
    "    print(\"yes\")\n",
    "else:\n",
    "    print(\"no\")"
   ]
  },
  {
   "cell_type": "code",
   "execution_count": 24,
   "id": "20299e56",
   "metadata": {},
   "outputs": [
    {
     "name": "stdout",
     "output_type": "stream",
     "text": [
      "[3, 'f', 5.5, -8, 'Royal', True]\n"
     ]
    }
   ],
   "source": [
    "print(marks[:])"
   ]
  },
  {
   "cell_type": "code",
   "execution_count": 25,
   "id": "a6ad9625",
   "metadata": {},
   "outputs": [
    {
     "name": "stdout",
     "output_type": "stream",
     "text": [
      "['f', -8]\n"
     ]
    }
   ],
   "source": [
    "print(marks[1:4:2])"
   ]
  },
  {
   "cell_type": "code",
   "execution_count": 26,
   "id": "36e0ff1b",
   "metadata": {},
   "outputs": [
    {
     "name": "stdout",
     "output_type": "stream",
     "text": [
      "[0, 1, 4, 9, 16]\n"
     ]
    }
   ],
   "source": [
    "#list comparehension\n",
    "lst=[i*i for i in  range(5)]\n",
    "print(lst)"
   ]
  },
  {
   "cell_type": "code",
   "execution_count": 27,
   "id": "cdb57e73",
   "metadata": {},
   "outputs": [
    {
     "name": "stdout",
     "output_type": "stream",
     "text": [
      "[0, 4, 16, 36, 64]\n"
     ]
    }
   ],
   "source": [
    "lst=[i*i for i in  range(10) if i%2==0]\n",
    "print(lst)"
   ]
  },
  {
   "cell_type": "code",
   "execution_count": 35,
   "id": "7e6e553f",
   "metadata": {},
   "outputs": [
    {
     "name": "stdout",
     "output_type": "stream",
     "text": [
      "[1, 2, 3, 44, 5, 7, 6, 9, 2, 33, 555]\n"
     ]
    }
   ],
   "source": [
    "l=[1,2,3,44,5,7,6,9]\n",
    "#l.append(7)\n",
    "# l.sort(reverse=True)\n",
    "# l.reverse()\n",
    "# l.index(1)\n",
    "# m=l.copy()\n",
    "#l.insert(1,899)\n",
    "#m=[2,33,555]\n",
    "#k=l+m\n",
    "#l.extend(m)\n",
    "#print(k)"
   ]
  },
  {
   "cell_type": "code",
   "execution_count": 38,
   "id": "44082c9d",
   "metadata": {},
   "outputs": [
    {
     "name": "stdout",
     "output_type": "stream",
     "text": [
      "<class 'tuple'>\n"
     ]
    }
   ],
   "source": [
    "#you can not change\n",
    "t=(1,2,3,4,2,3,2,5,\"green\",True)\n",
    "print(type(t))"
   ]
  },
  {
   "cell_type": "code",
   "execution_count": 43,
   "id": "651c2c8d",
   "metadata": {},
   "outputs": [
    {
     "name": "stdout",
     "output_type": "stream",
     "text": [
      "3\n"
     ]
    }
   ],
   "source": [
    "t=(1,2,3,4,2,3,2,5,3)\n",
    "a = t.count(2)\n",
    "print(a)"
   ]
  },
  {
   "cell_type": "code",
   "execution_count": 50,
   "id": "56050d0a",
   "metadata": {},
   "outputs": [
    {
     "name": "stdout",
     "output_type": "stream",
     "text": [
      "\n",
      "Question For Rs. 1000\n",
      "1:The International Literacy Day is observed on\n",
      "a. Sep 8          b.Nov 28\n",
      "c. May 2          d.Sep 22\n",
      "Enter your answer (1-4) or 0 to quit:\n",
      "1\n",
      "Correct answer , You have won Rs.1000\n",
      "Your take home money is Rs.0\n",
      "\n",
      "Question For Rs. 2000\n",
      "2:The language of Lakshadweep a Union Territory of India is\n",
      "a. Tamil          b.Hindi\n",
      "c. Malyalam          d.Telugu\n",
      "Enter your answer (1-4) or 0 to quit:\n",
      "3\n",
      "Correct answer , You have won Rs.2000\n",
      "Your take home money is Rs.0\n",
      "\n",
      "Question For Rs. 3000\n",
      "3:Bahubali festival is related to\n",
      "a. Islam          b.Hinduism\n",
      "c. Buddism          d.Jainism\n",
      "Enter your answer (1-4) or 0 to quit:\n",
      "4\n",
      "Correct answer , You have won Rs.3000\n",
      "Your take home money is Rs.0\n",
      "\n",
      "Question For Rs. 5000\n",
      "4:September 27 is celebrated every year as\n",
      "a. Teachers' Day          b.National Integration Day\n",
      "c. World Tourism Day          d.International Literacy Day\n",
      "Enter your answer (1-4) or 0 to quit:\n",
      "3\n",
      "Correct answer , You have won Rs.5000\n",
      "Your take home money is Rs.0\n",
      "\n",
      "Question For Rs. 10000\n",
      "5:Who is the author of the epic 'Meghdoot\n",
      "a. Vishakadatta          b.Valmiki\n",
      "c. Banabhatta          d.Kalidas\n",
      "Enter your answer (1-4) or 0 to quit:\n",
      "4\n",
      "Correct answer , You have won Rs.10000\n",
      "Your take home money is Rs.10000\n",
      "\n",
      "Question For Rs. 20000\n",
      "6:Pongal is a popular festival of which state\n",
      "a. Karnataka          b.Kerala\n",
      "c. Tamil Nadu          d.Andhra Pradesh\n",
      "Enter your answer (1-4) or 0 to quit:\n",
      "3\n",
      "Correct answer , You have won Rs.20000\n",
      "Your take home money is Rs.10000\n",
      "\n",
      "Question For Rs. 40000\n",
      "7:The first month of the Indian national calendar\n",
      "a. Magha          b.Chaitra\n",
      "c. Ashadha          d.Vaishakha\n",
      "Enter your answer (1-4) or 0 to quit:\n",
      "2\n",
      "Correct answer , You have won Rs.40000\n",
      "Your take home money is Rs.10000\n",
      "\n",
      "Question For Rs. 80000\n",
      "8:Which of the following is not a dance from Kerala?\n",
      "a. Karnataka          b.Kerala\n",
      "c. Tamil Nadu          d.Andhra Pradesh\n",
      "Enter your answer (1-4) or 0 to quit:\n",
      "3\n",
      "Correct answer , You have won Rs.80000\n",
      "Your take home money is Rs.10000\n",
      "\n",
      "Question For Rs. 160000\n",
      "9:Which of the following was the first Indian state to issue photo identity cards to its voters?\n",
      "a. Tamil Nadu          b.Rajasthan\n",
      "c. West Bengal          d.Haryana\n",
      "Enter your answer (1-4) or 0 to quit:\n",
      "4\n",
      "Correct answer , You have won Rs.160000\n",
      "Your take home money is Rs.10000\n",
      "\n",
      "Question For Rs. 320000\n",
      "10:What is the largest object in our solar system?\n",
      "a. Titan          b.Jupiter\n",
      "c. Sun          d.Alpha Centauri\n",
      "Enter your answer (1-4) or 0 to quit:\n",
      "2\n",
      "Correct answer , You have won Rs.320000\n",
      "Your take home money is Rs.320000\n",
      "\n",
      "Question For Rs. 640000\n",
      "11:Which of these are names of national parks located in Madhya Pradesh?\n",
      "a. Krishna and Kanhaiya          b.Krishna and Kanhaiya\n",
      "c. Ghanshyam and Murari          d.Girdhar and Gopal\n",
      "Enter your answer (1-4) or 0 to quit:\n",
      "2\n",
      "Correct answer , You have won Rs.640000\n",
      "Your take home money is Rs.320000\n",
      "\n",
      "Question For Rs. 1250000\n",
      "12:Who wrote the introduction to the English translation of Rabindranath Tagore’s Gitanjali?\n",
      "a. P.B. Shelley          b. Alfred Tennyson\n",
      "c. W.B. Yeats          d.T.S. Elliot\n",
      "Enter your answer (1-4) or 0 to quit:\n",
      "3\n",
      "Correct answer , You have won Rs.1250000\n",
      "Your take home money is Rs.320000\n",
      "\n",
      "Question For Rs. 2500000\n",
      "13:Who is the only MP in the current Lok Sabha who is also an Olympic medalist?\n",
      "a. Abhinav Bindra          b.Rajyavardan Singh Rathore\n",
      "c. Karnam Maleshwari          d. Gagan Narang\n",
      "Enter your answer (1-4) or 0 to quit:\n",
      "2\n",
      "Correct answer , You have won Rs.2500000\n",
      "Your take home money is Rs.320000\n",
      "\n",
      "Question For Rs. 5000000\n",
      "14:Which newspaper once kept its editorial cloumn blank as a mark of protest against the emergency of 1975?\n",
      "a.  Hindustan Times          b.The Hindu\n",
      "c.  The Indian Express          d.The Times of India\n",
      "Enter your answer (1-4) or 0 to quit:\n",
      "3\n",
      "Correct answer , You have won Rs.5000000\n",
      "Your take home money is Rs.320000\n",
      "\n",
      "Question For Rs. 10000000\n",
      "15:How many religions are there in India?\n",
      "a. 6          b.7\n",
      "c. 8          d.4\n",
      "Enter your answer (1-4) or 0 to quit:\n",
      "1\n",
      "Correct answer , You have won Rs.10000000\n",
      "Your take home money is Rs.10000000\n",
      "\n",
      "Question For Rs. 30000000\n",
      "16:Which is known as direct tax…..\n",
      "a.  Custom tax          b.Income tax\n",
      "c. Property tax          d. Excise tax\n",
      "Enter your answer (1-4) or 0 to quit:\n",
      "2\n",
      "Correct answer , You have won Rs.30000000\n",
      "Your take home money is Rs.10000000\n",
      "\n",
      "Question For Rs. 50000000\n",
      "17:A coin of what value is called as “Athhanni”?\n",
      "a. 1 Rupee          b.25 Paise\n",
      "c. 50 Paise          d.2 Rupees\n",
      "Enter your answer (1-4) or 0 to quit:\n",
      "3\n",
      "Correct answer , You have won Rs.50000000\n",
      "Your take home money is Rs.70000000\n",
      "\n",
      "Question For Rs. 70000000\n",
      "18:Who was the first person to be awarded the Bharat Ratna posthumously?\n",
      "a. Rajiv Gandhi          b.Vinoba Bhave\n",
      "c. Lal Bahadur Shastri          d. Indira gandhi\n",
      "Enter your answer (1-4) or 0 to quit:\n",
      "3\n",
      "Correct answer , You have won Rs.70000000\n",
      "Your take home money is Rs.70000000\n"
     ]
    }
   ],
   "source": [
    "#kbc\n",
    "#questions\n",
    "questions = [\n",
    "[\"1:The International Literacy Day is observed on\",\"Sep 8\",\"Nov 28\",\"May 2\",\"Sep 22\",1],\n",
    "[\"2:The language of Lakshadweep a Union Territory of India is\",\"Tamil\",\"Hindi\",\"Malyalam\",\"Telugu\",3],\n",
    "[\"3:Bahubali festival is related to\",\"Islam\",\"Hinduism\",\"Buddism\",\"Jainism\",4],\n",
    "[\"4:September 27 is celebrated every year as\",\"Teachers' Day\",\"National Integration Day\",\"World Tourism Day\",\"International Literacy Day\",3],\n",
    "[\"5:Who is the author of the epic 'Meghdoot\",\"Vishakadatta\",\"Valmiki\",\"Banabhatta\",\"Kalidas\",4],\n",
    "[\"6:Pongal is a popular festival of which state\",\"Karnataka\",\"Kerala\",\"Tamil Nadu\",\"Andhra Pradesh\",3],\n",
    "[\"7:The first month of the Indian national calendar\",\"Magha\",\"Chaitra\",\"Ashadha\",\"Vaishakha\",2],\n",
    "[\"8:Which of the following is not a dance from Kerala?\",\"Karnataka\",\"Kerala\",\"Tamil Nadu\",\"Andhra Pradesh\",3],\n",
    "[\"9:Which of the following was the first Indian state to issue photo identity cards to its voters?\",\"Tamil Nadu\",\"Rajasthan\",\"West Bengal\",\"Haryana\",4],\n",
    "[\"10:What is the largest object in our solar system?\",\"Titan\",\"Jupiter\",\"Sun\",\"Alpha Centauri\",2],\n",
    "[\"11:Which of these are names of national parks located in Madhya Pradesh?\",\"Krishna and Kanhaiya\",\"Krishna and Kanhaiya\",\"Ghanshyam and Murari\",\"Girdhar and Gopal\",2],\n",
    "[\"12:Who wrote the introduction to the English translation of Rabindranath Tagore’s Gitanjali?\",\"P.B. Shelley\",\" Alfred Tennyson\",\"W.B. Yeats\",\"T.S. Elliot\",3],\n",
    "[\"13:Who is the only MP in the current Lok Sabha who is also an Olympic medalist?\",\"Abhinav Bindra\",\"Rajyavardan Singh Rathore\",\"Karnam Maleshwari\",\" Gagan Narang\",2],\n",
    "[\"14:Which newspaper once kept its editorial cloumn blank as a mark of protest against the emergency of 1975?\",\" Hindustan Times\",\"The Hindu\",\" The Indian Express\",\"The Times of India\",3],\n",
    "[\"15:How many religions are there in India?\",\"6\",\"7\",\"8\",\"4\",1],\n",
    "[\"16:Which is known as direct tax…..\",\" Custom tax\",\"Income tax\",\"Property tax\",\" Excise tax\",2],\n",
    "[\"17:A coin of what value is called as “Athhanni”?\",\"1 Rupee\",\"25 Paise\",\"50 Paise\",\"2 Rupees\",3],\n",
    "[\"18:Who was the first person to be awarded the Bharat Ratna posthumously?\",\"Rajiv Gandhi\",\"Vinoba Bhave\",\"Lal Bahadur Shastri\",\" Indira gandhi\",3]\n",
    "]\n",
    "levels = [1000, 2000, 3000, 5000, 10000, 20000, 40000, 80000, 160000, 320000, 640000, 1250000, 2500000, 5000000, 10000000, 30000000, 50000000, 70000000]\n",
    "money = 0\n",
    "for i in range(0,len(questions)):\n",
    "    question = questions[i]\n",
    "    print(f\"\\nQuestion For Rs. {levels[i]}\")\n",
    "    print(f\"{question[0]}\")\n",
    "    print(f\"a. {question[1]}          b.{question[2]}\")\n",
    "    print(f\"c. {question[3]}          d.{question[4]}\")\n",
    "    reply = int(input(\"Enter your answer (1-4) or 0 to quit:\\n\"))\n",
    "    if(reply == 0):\n",
    "        money = levels[i-1]\n",
    "        break\n",
    "    if(reply == question[-1]):\n",
    "        print(f\"Correct answer , You have won Rs.{levels[i]}\")\n",
    "        if(i == 4):\n",
    "            money = 10000\n",
    "        if(i == 9):\n",
    "            money = 320000\n",
    "        if(i == 14):\n",
    "            money = 10000000\n",
    "        if(i == 16):\n",
    "            money = 70000000\n",
    "    else:\n",
    "        print(\"Wrong answer ! You out of this game.\")\n",
    "        break\n",
    "    print(f\"Your take home money is Rs.{money}\")\n",
    "\n"
   ]
  },
  {
   "cell_type": "code",
   "execution_count": 55,
   "id": "76a255ad",
   "metadata": {},
   "outputs": [
    {
     "name": "stdout",
     "output_type": "stream",
     "text": [
      "hey my name is ashish and i am from india\n",
      "hey my {name} is ashish and i am from india\n"
     ]
    }
   ],
   "source": [
    "#f string\n",
    "country=\"india\"\n",
    "name=\"ashish\"\n",
    "print(f\"hey my name is {name} and i am from {country}\")\n",
    "print(f\"hey my {{name}} is {name} and i am from {country}\")"
   ]
  },
  {
   "cell_type": "code",
   "execution_count": 54,
   "id": "604824e9",
   "metadata": {},
   "outputs": [
    {
     "name": "stdout",
     "output_type": "stream",
     "text": [
      "for only 50.00\n"
     ]
    }
   ],
   "source": [
    "price = 49.99999\n",
    "print(f\"for only {price:.2f}\")"
   ]
  },
  {
   "cell_type": "code",
   "execution_count": 60,
   "id": "3746026d",
   "metadata": {},
   "outputs": [
    {
     "name": "stdout",
     "output_type": "stream",
     "text": [
      "25\n",
      "Takes in a number n,returns the square of  n\n"
     ]
    }
   ],
   "source": [
    "#doc string --decribe about function\n",
    "def square(n):\n",
    "    '''Takes in a number n,returns the square of  n'''\n",
    "    print(n**2)\n",
    "square(5)\n",
    "print(square.__doc__)"
   ]
  },
  {
   "cell_type": "code",
   "execution_count": null,
   "id": "d75f9b9a",
   "metadata": {},
   "outputs": [],
   "source": [
    "#Pep 8 -- python Enhancement proposal"
   ]
  },
  {
   "cell_type": "code",
   "execution_count": 61,
   "id": "f2d07bd9",
   "metadata": {},
   "outputs": [
    {
     "name": "stdout",
     "output_type": "stream",
     "text": [
      "The Zen of Python, by Tim Peters\n",
      "\n",
      "Beautiful is better than ugly.\n",
      "Explicit is better than implicit.\n",
      "Simple is better than complex.\n",
      "Complex is better than complicated.\n",
      "Flat is better than nested.\n",
      "Sparse is better than dense.\n",
      "Readability counts.\n",
      "Special cases aren't special enough to break the rules.\n",
      "Although practicality beats purity.\n",
      "Errors should never pass silently.\n",
      "Unless explicitly silenced.\n",
      "In the face of ambiguity, refuse the temptation to guess.\n",
      "There should be one-- and preferably only one --obvious way to do it.\n",
      "Although that way may not be obvious at first unless you're Dutch.\n",
      "Now is better than never.\n",
      "Although never is often better than *right* now.\n",
      "If the implementation is hard to explain, it's a bad idea.\n",
      "If the implementation is easy to explain, it may be a good idea.\n",
      "Namespaces are one honking great idea -- let's do more of those!\n"
     ]
    }
   ],
   "source": [
    "#poem\n",
    "import this"
   ]
  },
  {
   "cell_type": "code",
   "execution_count": 63,
   "id": "e523a96e",
   "metadata": {},
   "outputs": [
    {
     "name": "stdout",
     "output_type": "stream",
     "text": [
      "120\n"
     ]
    }
   ],
   "source": [
    "#Recursion -- Function call itself\n",
    "def factorial(n):\n",
    "    if(n==0 or n==1):\n",
    "        return 1\n",
    "    else:\n",
    "        return n*factorial(n-1)\n",
    "    \n",
    "print(factorial(5))"
   ]
  },
  {
   "cell_type": "code",
   "execution_count": 76,
   "id": "4f916dcb",
   "metadata": {},
   "outputs": [
    {
     "data": {
      "text/plain": [
       "2"
      ]
     },
     "execution_count": 76,
     "metadata": {},
     "output_type": "execute_result"
    }
   ],
   "source": [
    "#febinacci series with recursion\n",
    "def febinacci(n):\n",
    "    if(n==0):\n",
    "        return 0\n",
    "    elif(n==1 or n==2):\n",
    "        return 1\n",
    "    else:\n",
    "        return febinacci(n-1)+febinacci(n-2)\n",
    "    \n",
    "febinacci(3)"
   ]
  },
  {
   "cell_type": "code",
   "execution_count": null,
   "id": "063f1a4a",
   "metadata": {},
   "outputs": [],
   "source": []
  }
 ],
 "metadata": {
  "kernelspec": {
   "display_name": "Python 3 (ipykernel)",
   "language": "python",
   "name": "python3"
  },
  "language_info": {
   "codemirror_mode": {
    "name": "ipython",
    "version": 3
   },
   "file_extension": ".py",
   "mimetype": "text/x-python",
   "name": "python",
   "nbconvert_exporter": "python",
   "pygments_lexer": "ipython3",
   "version": "3.10.9"
  }
 },
 "nbformat": 4,
 "nbformat_minor": 5
}
