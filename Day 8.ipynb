{
 "cells": [
  {
   "cell_type": "code",
   "execution_count": 1,
   "id": "94de685d",
   "metadata": {},
   "outputs": [
    {
     "name": "stdout",
     "output_type": "stream",
     "text": [
      "['__add__', '__class__', '__class_getitem__', '__contains__', '__delattr__', '__delitem__', '__dir__', '__doc__', '__eq__', '__format__', '__ge__', '__getattribute__', '__getitem__', '__gt__', '__hash__', '__iadd__', '__imul__', '__init__', '__init_subclass__', '__iter__', '__le__', '__len__', '__lt__', '__mul__', '__ne__', '__new__', '__reduce__', '__reduce_ex__', '__repr__', '__reversed__', '__rmul__', '__setattr__', '__setitem__', '__sizeof__', '__str__', '__subclasshook__', 'append', 'clear', 'copy', 'count', 'extend', 'index', 'insert', 'pop', 'remove', 'reverse', 'sort']\n"
     ]
    }
   ],
   "source": [
    "# dir - return attribute and methods\n",
    "x=[1,2,3]\n",
    "print(dir(x))"
   ]
  },
  {
   "cell_type": "code",
   "execution_count": 2,
   "id": "9a19c677",
   "metadata": {},
   "outputs": [
    {
     "name": "stdout",
     "output_type": "stream",
     "text": [
      "{'name': 'john', 'age': 20, 'version': 1}\n"
     ]
    }
   ],
   "source": [
    "# dict - return a dictionary\n",
    "class Person:\n",
    "    def __init__(self,name,age):\n",
    "        self.name=name\n",
    "        self.age=age\n",
    "        self.version=1\n",
    "p=Person(\"john\",20)\n",
    "print(p.__dict__)"
   ]
  },
  {
   "cell_type": "code",
   "execution_count": 3,
   "id": "40472dfc",
   "metadata": {},
   "outputs": [
    {
     "name": "stdout",
     "output_type": "stream",
     "text": [
      "Help on class Person in module __main__:\n",
      "\n",
      "class Person(builtins.object)\n",
      " |  Person(name, age)\n",
      " |  \n",
      " |  Methods defined here:\n",
      " |  \n",
      " |  __init__(self, name, age)\n",
      " |      Initialize self.  See help(type(self)) for accurate signature.\n",
      " |  \n",
      " |  ----------------------------------------------------------------------\n",
      " |  Data descriptors defined here:\n",
      " |  \n",
      " |  __dict__\n",
      " |      dictionary for instance variables (if defined)\n",
      " |  \n",
      " |  __weakref__\n",
      " |      list of weak references to the object (if defined)\n",
      "\n",
      "None\n"
     ]
    }
   ],
   "source": [
    "#help - tell about the class , define things in detial\n",
    "print(help(Person))"
   ]
  },
  {
   "cell_type": "code",
   "execution_count": 4,
   "id": "53d99f84",
   "metadata": {},
   "outputs": [
    {
     "name": "stdout",
     "output_type": "stream",
     "text": [
      "hari\n",
      "123\n",
      "python\n"
     ]
    }
   ],
   "source": [
    "#super() keyword- used in child class for using parent class function\n",
    "class Employee():\n",
    "    def __init__(self,name,id):\n",
    "        self.name=name\n",
    "        self.id=id\n",
    "class programmer(Employee):\n",
    "    def __init__(self,name,id,lang):\n",
    "        super().__init__(name,id)\n",
    "        self.lang=lang\n",
    "raj=Employee(\"raj\",\"420\")\n",
    "hari=programmer(\"hari\",\"123\",\"python\")\n",
    "print(hari.name)\n",
    "print(hari.id)\n",
    "print(hari.lang)\n"
   ]
  },
  {
   "cell_type": "code",
   "execution_count": 5,
   "id": "01b4376e",
   "metadata": {},
   "outputs": [
    {
     "name": "stdout",
     "output_type": "stream",
     "text": [
      "The name of the employee is Harry str\n",
      "Employee('Harry')\n",
      "Hey I am good\n"
     ]
    }
   ],
   "source": [
    "#majic/dunder methods with  __ __\n",
    "class Employee:\n",
    "\n",
    "  def __init__(self, name):\n",
    "    self.name = name\n",
    "\n",
    "  def __len__(self):\n",
    "    i = 0\n",
    "    for c in self.name:\n",
    "      i = i + 1\n",
    "    return i\n",
    "\n",
    "  def __str__(self):\n",
    "    return f\"The name of the employee is {self.name} str\"\n",
    "    \n",
    "  def __repr__(self):\n",
    "    return f\"Employee('{self.name}')\"\n",
    "\n",
    "  def __call__(self):\n",
    "    print(\"Hey I am good\")\n",
    "\n",
    "    \n",
    "e = Employee(\"Harry\")\n",
    "print(str(e))\n",
    "print(repr(e))\n",
    "# print(e.name)\n",
    "# print(len(e))\n",
    "e()"
   ]
  },
  {
   "cell_type": "code",
   "execution_count": 15,
   "id": "c20ce9e0",
   "metadata": {},
   "outputs": [
    {
     "name": "stdout",
     "output_type": "stream",
     "text": [
      "15\n"
     ]
    }
   ],
   "source": [
    "#method overriding - redifined a method in child class that is come from parent class\n",
    "class shape():\n",
    "    def __init__(self,x,y):\n",
    "        self.x=x\n",
    "        self.y=y\n",
    "    \n",
    "    def area(self):\n",
    "        return self.x * self.y\n",
    "    \n",
    "class circle(shape):\n",
    "    def __init__(self,radius):\n",
    "        self.radius = radius\n",
    "        \n",
    "        def area(self):\n",
    "            return 3.14 * self.radius*self.radius\n",
    "        \n",
    "rec  = shape(3,5)\n",
    "print(rec.area())\n",
    "\n",
    "# c = circle(5)\n",
    "# print(c.area())"
   ]
  },
  {
   "cell_type": "code",
   "execution_count": 16,
   "id": "dfe8feea",
   "metadata": {},
   "outputs": [
    {
     "name": "stdout",
     "output_type": "stream",
     "text": [
      "3i + 5j + 6k\n",
      "1i + 2j + 9k\n",
      "4i + 7j + 15k\n",
      "<class '__main__.Vector'>\n"
     ]
    }
   ],
   "source": [
    "#operater overloading\n",
    "class Vector:\n",
    "  def __init__(self, i, j, k):\n",
    "    self.i = i\n",
    "    self.j = j\n",
    "    self.k = k\n",
    "\n",
    "  def __str__(self):\n",
    "    return f\"{self.i}i + {self.j}j + {self.k}k\"\n",
    "\n",
    "  def __add__(self, x):\n",
    "    return Vector(self.i + x.i,  self.j+x.j, self.k+x.k) \n",
    "v1 = Vector(3, 5, 6)\n",
    "print(v1)\n",
    "\n",
    "v2 = Vector(1, 2, 9)\n",
    "print(v2)\n",
    "\n",
    "print(v1 + v2)\n",
    "print(type(v1 + v2))"
   ]
  },
  {
   "cell_type": "code",
   "execution_count": 17,
   "id": "cf2a8ece",
   "metadata": {},
   "outputs": [
    {
     "name": "stdout",
     "output_type": "stream",
     "text": [
      "Bark!\n",
      "Sound made by the animal\n"
     ]
    }
   ],
   "source": [
    "class Animal:\n",
    "    def __init__(self, name, species):\n",
    "        self.name = name\n",
    "        self.species = species\n",
    "        \n",
    "    def make_sound(self):\n",
    "        print(\"Sound made by the animal\")\n",
    "\n",
    "class Dog(Animal):\n",
    "    def __init__(self, name, breed):\n",
    "        Animal.__init__(self, name, species=\"Dog\")\n",
    "        self.breed = breed\n",
    "        \n",
    "    def make_sound(self):\n",
    "        print(\"Bark!\")\n",
    "\n",
    "d = Dog(\"Dog\", \"Doggerman\")\n",
    "d.make_sound()\n",
    "\n",
    "a = Animal(\"Dog\", \"Dog\")\n",
    "a.make_sound()\n",
    "\n",
    "# Quick Quiz: Implement a Cat class by using the animal class. Add some methods specific to cat"
   ]
  },
  {
   "cell_type": "code",
   "execution_count": 18,
   "id": "916d0b90",
   "metadata": {},
   "outputs": [
    {
     "name": "stdout",
     "output_type": "stream",
     "text": [
      "Meow meow!\n",
      "Felis catus\n",
      "Black\n",
      "Green\n"
     ]
    }
   ],
   "source": [
    "class Animal:\n",
    "    def __init__(self, name, species):\n",
    "        self.name = name\n",
    "        self.species = species\n",
    "\n",
    "    def make_sound(self):\n",
    "        print(\"Sound made by the animal\")\n",
    "\n",
    "\n",
    "class Cat(Animal):\n",
    "    def __init__(self, color, eye):\n",
    "        self.color = color\n",
    "        self.eye = eye\n",
    "        super().__init__(\"Cat\", \"Felis catus\")\n",
    "\n",
    "    def make_sound(self):\n",
    "        print(\"Meow meow!\")\n",
    "\n",
    "    def species_name(self):\n",
    "        print(self.species)\n",
    "\n",
    "    def skin_color(self):\n",
    "        print(self.color)\n",
    "\n",
    "    def eyes_color(self):\n",
    "        print(self.eye)\n",
    "\n",
    "\n",
    "cat = Cat(\"Black\", \"Green\")\n",
    "cat.make_sound()\n",
    "cat.species_name()\n",
    "cat.skin_color()\n",
    "cat.eyes_color()"
   ]
  },
  {
   "cell_type": "code",
   "execution_count": 19,
   "id": "9152f6cc",
   "metadata": {},
   "outputs": [
    {
     "name": "stdout",
     "output_type": "stream",
     "text": [
      "Shivani\n",
      "Kathak\n",
      "The name is Shivani\n",
      "[<class '__main__.DancerEmployee'>, <class '__main__.Employee'>, <class '__main__.Dancer'>, <class 'object'>]\n"
     ]
    }
   ],
   "source": [
    "#multiple inheritance\n",
    "class Employee:\n",
    "  def __init__(self, name):\n",
    "    self.name = name\n",
    "  def show(self):\n",
    "    print(f\"The name is {self.name}\")\n",
    "\n",
    "class Dancer:\n",
    "  def __init__(self, dance):\n",
    "    self.dance = dance\n",
    "\n",
    "  def show(self):\n",
    "    print(f\"The dance is {self.dance}\")\n",
    "\n",
    "class DancerEmployee(Employee, Dancer):\n",
    "  def __init__(self, dance, name):\n",
    "    self.dance = dance\n",
    "    self.name = name\n",
    "\n",
    "o  = DancerEmployee(\"Kathak\", \"Shivani\")\n",
    "print(o.name)\n",
    "print(o.dance)\n",
    "o.show() \n",
    "print(DancerEmployee.mro())"
   ]
  },
  {
   "cell_type": "code",
   "execution_count": 20,
   "id": "8c569e3f",
   "metadata": {},
   "outputs": [
    {
     "name": "stdout",
     "output_type": "stream",
     "text": [
      "Name: tommy\n",
      "Species: Dog\n",
      "Breed: Black\n",
      "[<class '__main__.GoldenRetriever'>, <class '__main__.Dog'>, <class '__main__.Animal'>, <class 'object'>]\n"
     ]
    }
   ],
   "source": [
    "#multilevel inheritance\n",
    "class Animal:\n",
    "    def __init__(self, name, species):\n",
    "        self.name = name\n",
    "        self.species = species\n",
    "        \n",
    "    def show_details(self):\n",
    "        print(f\"Name: {self.name}\")\n",
    "        print(f\"Species: {self.species}\")\n",
    "        \n",
    "class Dog(Animal):\n",
    "    def __init__(self, name, breed):\n",
    "        Animal.__init__(self, name, species=\"Dog\")\n",
    "        self.breed = breed\n",
    "        \n",
    "    def show_details(self):\n",
    "        Animal.show_details(self)\n",
    "        print(f\"Breed: {self.breed}\")\n",
    "        \n",
    "class GoldenRetriever(Dog):\n",
    "    def __init__(self, name, color):\n",
    "        Dog.__init__(self, name, breed=\"Golden Retriever\")\n",
    "        self.color = color\n",
    "        \n",
    "    def show_details(self):\n",
    "        Dog.show_details(self)\n",
    "        print(f\"Color: {self.color}\")\n",
    "\n",
    "o = Dog(\"tommy\", \"Black\")\n",
    "o.show_details()\n",
    "print(GoldenRetriever.mro())\n",
    "\n"
   ]
  },
  {
   "cell_type": "code",
   "execution_count": 21,
   "id": "d7bcdbc9",
   "metadata": {},
   "outputs": [],
   "source": [
    "# Example of Hybrid Inheritance \n",
    "class BaseClass:\n",
    "  pass\n",
    "\n",
    "class Derived1(BaseClass):\n",
    "  pass  \n",
    "\n",
    "class Derived2(BaseClass):\n",
    "  pass  \n",
    "\n",
    "class Derived3(Derived1, Derived2):\n",
    "  pass\n",
    "\n",
    "# Hierarchical Inheritance\n",
    "class BaseClass:\n",
    "  pass\n",
    "\n",
    "class D1(BaseClass):\n",
    "  pass\n",
    "\n",
    "class D2(BaseClass):\n",
    "  pass\n",
    "\n",
    "class D3(D1):\n",
    "  pass"
   ]
  },
  {
   "cell_type": "code",
   "execution_count": 22,
   "id": "99688a21",
   "metadata": {},
   "outputs": [
    {
     "name": "stdout",
     "output_type": "stream",
     "text": [
      "Collecting PyPDF2\n",
      "  Downloading pypdf2-3.0.1-py3-none-any.whl (232 kB)\n",
      "     ------------------------------------ 232.6/232.6 kB 835.8 kB/s eta 0:00:00\n",
      "Installing collected packages: PyPDF2\n",
      "Successfully installed PyPDF2-3.0.1\n",
      "Note: you may need to restart the kernel to use updated packages.\n"
     ]
    }
   ],
   "source": [
    "pip install PyPDF2"
   ]
  },
  {
   "cell_type": "code",
   "execution_count": 25,
   "id": "c399096f",
   "metadata": {},
   "outputs": [],
   "source": [
    "from PyPDF2 import PdfWriter\n",
    "\n",
    "merger = PdfWriter()\n",
    "\n",
    "for pdf in [\"file1.pdf\", \"file2.pdf\", \"file3.pdf\"]:\n",
    "    merger.append(pdf)\n",
    "\n",
    "merger.write(\"merged-pdf.pdf\")\n",
    "merger.close()"
   ]
  },
  {
   "cell_type": "code",
   "execution_count": 29,
   "id": "0e78a84d",
   "metadata": {},
   "outputs": [],
   "source": [
    "from PyPDF2 import PdfWriter\n",
    "\n",
    "merger = PdfWriter()\n",
    "\n",
    "input1 = open(\"file1.pdf\", \"rb\")\n",
    "input2 = open(\"file2.pdf\", \"rb\")\n",
    "input3 = open(\"file3.pdf\", \"rb\")\n",
    "\n",
    "# add the first 3 pages of input1 document to output\n",
    "merger.append(fileobj=input1, pages=(0, 3))\n",
    "\n",
    "# insert the first page of input2 into the output beginning after the second page\n",
    "merger.merge(position=2, fileobj=input2, pages=(0, 1))\n",
    "\n",
    "# append entire input3 document to the end of the output document\n",
    "merger.append(input3)\n",
    "\n",
    "# Write to an output PDF document\n",
    "output = open(\"document-output.pdf\", \"wb\")\n",
    "merger.write(output)\n",
    "# Close File Descriptors\n",
    "merger.close()\n",
    "output.close()"
   ]
  },
  {
   "cell_type": "code",
   "execution_count": null,
   "id": "df7fd3b5",
   "metadata": {},
   "outputs": [],
   "source": []
  }
 ],
 "metadata": {
  "kernelspec": {
   "display_name": "Python 3 (ipykernel)",
   "language": "python",
   "name": "python3"
  },
  "language_info": {
   "codemirror_mode": {
    "name": "ipython",
    "version": 3
   },
   "file_extension": ".py",
   "mimetype": "text/x-python",
   "name": "python",
   "nbconvert_exporter": "python",
   "pygments_lexer": "ipython3",
   "version": "3.10.9"
  }
 },
 "nbformat": 4,
 "nbformat_minor": 5
}
