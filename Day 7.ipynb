{
 "cells": [
  {
   "cell_type": "code",
   "execution_count": 2,
   "id": "cde4fbed",
   "metadata": {},
   "outputs": [
    {
     "name": "stdout",
     "output_type": "stream",
     "text": [
      "The name of Employee : 200 is rohan\n",
      "The name of Employee : 300 is harry\n",
      "lamguage is python\n"
     ]
    }
   ],
   "source": [
    "#inheritance\n",
    "\n",
    "class Employee:\n",
    "    def __init__(self,name,id):\n",
    "        self.name = name\n",
    "        self.id = id\n",
    "        \n",
    "    def showdetails(self):\n",
    "        print(f\"The name of Employee : {self.id} is {self.name}\")\n",
    "        \n",
    "class programmer(Employee):\n",
    "    def showlanguage(self):\n",
    "        print(\"lamguage is python\")\n",
    "        \n",
    "        \n",
    "e1=Employee(\"rohan\",200)\n",
    "e1.showdetails()\n",
    "e2 = programmer(\"harry\",300)\n",
    "e2.showdetails()\n",
    "e2.showlanguage()"
   ]
  },
  {
   "cell_type": "code",
   "execution_count": 8,
   "id": "3ca7e397",
   "metadata": {},
   "outputs": [
    {
     "name": "stdout",
     "output_type": "stream",
     "text": [
      "h1\n",
      "['_Employee__name', '__module__', '__init__', '__dict__', '__weakref__', '__doc__', '__new__', '__repr__', '__hash__', '__str__', '__getattribute__', '__setattr__', '__delattr__', '__lt__', '__le__', '__eq__', '__ne__', '__gt__', '__ge__', '__reduce_ex__', '__reduce__', '__subclasshook__', '__init_subclass__', '__format__', '__sizeof__', '__dir__', '__class__']\n"
     ]
    }
   ],
   "source": [
    "#access modifiers - public , private , protected\n",
    "\n",
    "class Employee:\n",
    "    def __init__(self):\n",
    "        self.__name = \"h1\"\n",
    "a = Employee()\n",
    "#print(a.__name)  # you cant access direct\n",
    "print(a._Employee__name)   #can be access\n",
    "print(a.__dir__())\n",
    "\n",
    "#name mangling - access directly"
   ]
  },
  {
   "cell_type": "code",
   "execution_count": 13,
   "id": "9ae9f33a",
   "metadata": {},
   "outputs": [
    {
     "name": "stdout",
     "output_type": "stream",
     "text": [
      "0 for snake, 1 for water , 2 for gun : 1\n",
      "you  1\n",
      "comp  2\n",
      "you won\n"
     ]
    }
   ],
   "source": [
    "#snake water gun\n",
    "import random\n",
    "def check(comp,user):\n",
    "    if(comp == user):\n",
    "        return 0\n",
    "    if(comp == 0 and user == 1):\n",
    "        return -1\n",
    "    if(comp == 1 and user == 2):\n",
    "        return -1\n",
    "    if(comp == 2 and user == 0):\n",
    "        return -1\n",
    "    return 1\n",
    "comp = random.randint(0,2)\n",
    "user = int(input(\"0 for snake, 1 for water , 2 for gun : \"))\n",
    "score = check(comp,user)\n",
    "\n",
    "print(\"you \",user)\n",
    "print(\"comp \",comp)\n",
    "if(score == 0):\n",
    "    print(\"draw\")\n",
    "elif(score == -1):\n",
    "    print(\"you loose\")\n",
    "else:\n",
    "    print(\"you won\")"
   ]
  },
  {
   "cell_type": "code",
   "execution_count": 25,
   "id": "88223cb7",
   "metadata": {},
   "outputs": [
    {
     "name": "stdout",
     "output_type": "stream",
     "text": [
      "The library has 3 books. The books are\n",
      "Harry Potter1\n",
      "Harry Potter2\n",
      "Harry Potter3\n"
     ]
    }
   ],
   "source": [
    "class Library:\n",
    "  def __init__(self):\n",
    "    self.noBooks = 0\n",
    "    self.books = []\n",
    "    \n",
    "  def addBook(self, book):\n",
    "    self.books.append(book)\n",
    "    self.noBooks = len(self.books)\n",
    "\n",
    "  def showInfo(self):\n",
    "    print(f\"The library has {self.noBooks} books. The books are\")\n",
    "    for book in self.books:\n",
    "      print(book)\n",
    "\n",
    "\n",
    "l1 = Library()\n",
    "l1.addBook(\"Harry Potter1\")\n",
    "l1.addBook(\"Harry Potter2\")\n",
    "l1.addBook(\"Harry Potter3\")\n",
    "l1.showInfo()"
   ]
  },
  {
   "cell_type": "code",
   "execution_count": 23,
   "id": "dcdc52ba",
   "metadata": {},
   "outputs": [
    {
     "name": "stdout",
     "output_type": "stream",
     "text": [
      "5\n",
      "11\n",
      "9\n"
     ]
    }
   ],
   "source": [
    "class math():\n",
    "    def __init__(self,num):\n",
    "        self.num = num\n",
    "    def addtonum(self,n):\n",
    "        self.num=self.num+n\n",
    "        \n",
    "    @staticmethod\n",
    "    def add(a,b):\n",
    "        return a+b\n",
    "a=math(5)\n",
    "print(a.num)\n",
    "a.addtonum(6)\n",
    "print(a.num)\n",
    "print(a.add(7,2))"
   ]
  },
  {
   "cell_type": "code",
   "execution_count": 24,
   "id": "12103cce",
   "metadata": {},
   "outputs": [
    {
     "name": "stdout",
     "output_type": "stream",
     "text": [
      "The name of the Employee is Harry and the raise amount in 1 sized Apple India is 0.3\n",
      "Google\n",
      "The name of the Employee is Rohan and the raise amount in 2 sized Nestle is 0.02\n"
     ]
    }
   ],
   "source": [
    "class Employee:\n",
    "  companyName = \"Apple\"\n",
    "  noOfEmployees = 0\n",
    "  def __init__(self, name):\n",
    "    self.name = name\n",
    "    self.raise_amount = 0.02\n",
    "    Employee.noOfEmployees +=1\n",
    "  def showDetails(self):\n",
    "    print(f\"The name of the Employee is {self.name} and the raise amount in {self.noOfEmployees} sized {self.companyName} is {self.raise_amount}\")\n",
    "\n",
    "# Employee.showDetails(emp1)\n",
    "emp1 = Employee(\"Harry\")\n",
    "emp1.raise_amount = 0.3\n",
    "emp1.companyName = \"Apple India\" \n",
    "emp1.showDetails()\n",
    "Employee.companyName = \"Google\"\n",
    "print(Employee.companyName)\n",
    "\n",
    "emp2 = Employee(\"Rohan\")\n",
    "emp2.companyName = \"Nestle\"\n",
    "emp2.showDetails()\n"
   ]
  },
  {
   "cell_type": "code",
   "execution_count": 33,
   "id": "6a99147c",
   "metadata": {},
   "outputs": [
    {
     "name": "stdout",
     "output_type": "stream",
     "text": [
      "tutorial1\n",
      "tutorial10\n",
      "tutorial2\n",
      "tutorial3\n",
      "tutorial4\n",
      "tutorial5\n",
      "tutorial6\n",
      "tutorial7\n",
      "tutorial8\n",
      "tutorial9\n"
     ]
    }
   ],
   "source": [
    "import os\n",
    "# for i in range(0,10):\n",
    "    #os.del(f\"data/day{i+1}\")\n",
    "    \n",
    "files = os.listdir(\"data\")\n",
    "i=1\n",
    "for file in files:\n",
    "    print(file)\n",
    "    os.rename(f\"data/{file}\",f\"data{i}.png\")\n",
    "    i=i+1"
   ]
  },
  {
   "cell_type": "code",
   "execution_count": 29,
   "id": "952e0c90",
   "metadata": {},
   "outputs": [
    {
     "name": "stdout",
     "output_type": "stream",
     "text": [
      "The name is Harry and company is Apple\n",
      "The name is Harry and company is Tesla\n",
      "Tesla\n"
     ]
    }
   ],
   "source": [
    "class Employee:\n",
    "  company = \"Apple\"\n",
    "  def show(self):\n",
    "    print(f\"The name is {self.name} and company is {self.company}\")\n",
    "\n",
    "  @classmethod\n",
    "  def changeCompany(cls, newCompany):\n",
    "    cls.company = newCompany\n",
    "\n",
    "\n",
    "e1 = Employee()\n",
    "e1.name = \"Harry\"\n",
    "e1.show()\n",
    "e1.changeCompany(\"Tesla\")\n",
    "e1.show()\n",
    "print(Employee.company)"
   ]
  },
  {
   "cell_type": "code",
   "execution_count": 30,
   "id": "4c59d1e4",
   "metadata": {},
   "outputs": [
    {
     "name": "stdout",
     "output_type": "stream",
     "text": [
      "Harry\n",
      "12000\n",
      "John\n",
      "12000\n",
      "John Doe 30\n"
     ]
    }
   ],
   "source": [
    "class Employee:\n",
    "  def __init__(self, name, salary):\n",
    "    self.name = name \n",
    "    self.salary = salary\n",
    "    \n",
    "  @classmethod\n",
    "  def fromStr(cls, string):\n",
    "    return cls(string.split(\"-\")[0], int(string.split(\"-\")[1]))\n",
    "    \n",
    "e1 = Employee(\"Harry\", 12000)\n",
    "print(e1.name)\n",
    "print(e1.salary)\n",
    "\n",
    "string = \"John-12000\"\n",
    "e2 = Employee.fromStr(string)\n",
    "print(e2.name)\n",
    "print(e2.salary)\n",
    "\n",
    "class Person:\n",
    "    def __init__(self, name, age):\n",
    "        self.name = name\n",
    "        self.age = age\n",
    "\n",
    "    @classmethod\n",
    "    def from_string(cls, string):\n",
    "        name, age = string.split(',')\n",
    "        return cls(name, int(age))\n",
    "\n",
    "person = Person.from_string(\"John Doe, 30\")\n",
    "print(person.name, person.age)"
   ]
  },
  {
   "cell_type": "code",
   "execution_count": null,
   "id": "caf3001f",
   "metadata": {},
   "outputs": [],
   "source": []
  }
 ],
 "metadata": {
  "kernelspec": {
   "display_name": "Python 3 (ipykernel)",
   "language": "python",
   "name": "python3"
  },
  "language_info": {
   "codemirror_mode": {
    "name": "ipython",
    "version": 3
   },
   "file_extension": ".py",
   "mimetype": "text/x-python",
   "name": "python",
   "nbconvert_exporter": "python",
   "pygments_lexer": "ipython3",
   "version": "3.10.9"
  }
 },
 "nbformat": 4,
 "nbformat_minor": 5
}
