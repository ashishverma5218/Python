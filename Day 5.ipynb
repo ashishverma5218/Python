{
 "cells": [
  {
   "cell_type": "code",
   "execution_count": 1,
   "id": "53387caf",
   "metadata": {},
   "outputs": [
    {
     "name": "stdout",
     "output_type": "stream",
     "text": [
      "A\n"
     ]
    }
   ],
   "source": [
    "#short hand if else\n",
    "a=330\n",
    "b=3303\n",
    "print(\"A\" if a<b else print(\"=\") if a==b else print(\"B\"))"
   ]
  },
  {
   "cell_type": "code",
   "execution_count": 7,
   "id": "35a7bab4",
   "metadata": {},
   "outputs": [
    {
     "name": "stdout",
     "output_type": "stream",
     "text": [
      "12\n",
      "34\n",
      "56\n",
      "67\n",
      "A\n",
      "1\n",
      "3\n",
      "12\n",
      "34\n",
      "56\n",
      "67\n",
      "A\n",
      "1\n",
      "3\n"
     ]
    }
   ],
   "source": [
    "#Enumerate function\n",
    "marks=[12,34,56,67,1,3]\n",
    "index=0\n",
    "for mark in marks:\n",
    "    print(mark)\n",
    "    if(index==3):\n",
    "        print(\"A\")\n",
    "    index +=1\n",
    "    \n",
    "marks=[12,34,56,67,1,3]\n",
    "for index,mark in enumerate(marks):\n",
    "    print(mark)\n",
    "    if(index==3):\n",
    "        print(\"A\")"
   ]
  },
  {
   "cell_type": "code",
   "execution_count": 9,
   "id": "78d500fa",
   "metadata": {},
   "outputs": [
    {
     "name": "stdout",
     "output_type": "stream",
     "text": [
      "['__doc__', '__loader__', '__name__', '__package__', '__spec__', 'acos', 'acosh', 'asin', 'asinh', 'atan', 'atan2', 'atanh', 'ceil', 'comb', 'copysign', 'cos', 'cosh', 'degrees', 'dist', 'e', 'erf', 'erfc', 'exp', 'expm1', 'fabs', 'factorial', 'floor', 'fmod', 'frexp', 'fsum', 'gamma', 'gcd', 'hypot', 'inf', 'isclose', 'isfinite', 'isinf', 'isnan', 'isqrt', 'lcm', 'ldexp', 'lgamma', 'log', 'log10', 'log1p', 'log2', 'modf', 'nan', 'nextafter', 'perm', 'pi', 'pow', 'prod', 'radians', 'remainder', 'sin', 'sinh', 'sqrt', 'tan', 'tanh', 'tau', 'trunc', 'ulp']\n"
     ]
    }
   ],
   "source": [
    "#import\n",
    "import math #import full library\n",
    "from math import sqrt,pi # import particular function\n",
    "import math as m  # as-alias short or long name according to your requirement\n",
    "print(dir(math)) # check how many functions on the library"
   ]
  },
  {
   "cell_type": "code",
   "execution_count": null,
   "id": "ff2b8a2f",
   "metadata": {},
   "outputs": [],
   "source": [
    "#you can also marke your own library and import it\n",
    "from ashish import welcome"
   ]
  },
  {
   "cell_type": "code",
   "execution_count": null,
   "id": "3fa6a386",
   "metadata": {},
   "outputs": [],
   "source": [
    "# if __name__ ==\"__main__\":\n",
    "#     welcome()"
   ]
  },
  {
   "cell_type": "code",
   "execution_count": 11,
   "id": "c28be2a3",
   "metadata": {},
   "outputs": [
    {
     "ename": "FileExistsError",
     "evalue": "[WinError 183] Cannot create a file when that file already exists: 'data/day1'",
     "output_type": "error",
     "traceback": [
      "\u001b[1;31m---------------------------------------------------------------------------\u001b[0m",
      "\u001b[1;31mFileExistsError\u001b[0m                           Traceback (most recent call last)",
      "Cell \u001b[1;32mIn[11], line 6\u001b[0m\n\u001b[0;32m      4\u001b[0m     os\u001b[38;5;241m.\u001b[39mmkdir(\u001b[38;5;124m\"\u001b[39m\u001b[38;5;124mdata\u001b[39m\u001b[38;5;124m\"\u001b[39m)\n\u001b[0;32m      5\u001b[0m \u001b[38;5;28;01mfor\u001b[39;00m i \u001b[38;5;129;01min\u001b[39;00m \u001b[38;5;28mrange\u001b[39m(\u001b[38;5;241m0\u001b[39m,\u001b[38;5;241m10\u001b[39m):\n\u001b[1;32m----> 6\u001b[0m     \u001b[43mos\u001b[49m\u001b[38;5;241;43m.\u001b[39;49m\u001b[43mmkdir\u001b[49m\u001b[43m(\u001b[49m\u001b[38;5;124;43mf\u001b[39;49m\u001b[38;5;124;43m\"\u001b[39;49m\u001b[38;5;124;43mdata/day\u001b[39;49m\u001b[38;5;132;43;01m{\u001b[39;49;00m\u001b[43mi\u001b[49m\u001b[38;5;241;43m+\u001b[39;49m\u001b[38;5;241;43m1\u001b[39;49m\u001b[38;5;132;43;01m}\u001b[39;49;00m\u001b[38;5;124;43m\"\u001b[39;49m\u001b[43m)\u001b[49m\n",
      "\u001b[1;31mFileExistsError\u001b[0m: [WinError 183] Cannot create a file when that file already exists: 'data/day1'"
     ]
    }
   ],
   "source": [
    "#OS module\n",
    "import os\n",
    "# if(not os.path.exists(\"data\")):\n",
    "#     os.mkdir(\"data\")\n",
    "for i in range(0,10):\n",
    "    os.del(f\"data/day{i+1}\")"
   ]
  },
  {
   "cell_type": "code",
   "execution_count": 18,
   "id": "248581cf",
   "metadata": {},
   "outputs": [
    {
     "name": "stdout",
     "output_type": "stream",
     "text": [
      "9\n",
      "9\n"
     ]
    }
   ],
   "source": [
    "#local or global variable\n",
    "x=4  #global varaible\n",
    "\n",
    "def my_function():\n",
    "    #x=7  #local variable for this function only\n",
    "    global x\n",
    "    x=9     #now it is global for whole program\n",
    "    print(x)\n",
    "my_function()\n",
    "\n",
    "print(x)"
   ]
  },
  {
   "cell_type": "code",
   "execution_count": 24,
   "id": "4e977d0a",
   "metadata": {},
   "outputs": [
    {
     "name": "stdout",
     "output_type": "stream",
     "text": [
      "this is a file made by me\n"
     ]
    }
   ],
   "source": [
    "#file handling\n",
    "#mode read-r,write-w,append-a\n",
    "f=open('myfile.txt','r')\n",
    "text=f.read()\n",
    "print(text)\n",
    "f.close()"
   ]
  },
  {
   "cell_type": "code",
   "execution_count": 30,
   "id": "2d111552",
   "metadata": {},
   "outputs": [],
   "source": [
    "#close without close statement\n",
    "with open('myfile.txt','a') as f:\n",
    "    f.write(\"hey i am \")"
   ]
  },
  {
   "cell_type": "code",
   "execution_count": 37,
   "id": "ebe3314f",
   "metadata": {},
   "outputs": [
    {
     "name": "stdout",
     "output_type": "stream",
     "text": [
      "this is a file made by me\n",
      "\n",
      "hey i am\n",
      "\n",
      "hey i am \n",
      "\n",
      "hey i am \n",
      "\n",
      "hey i am \n"
     ]
    }
   ],
   "source": [
    "f=open('myfile.txt','r')\n",
    "while True:\n",
    "    line = f.readline()\n",
    "    if not line:\n",
    "        break\n",
    "    print(line)"
   ]
  },
  {
   "cell_type": "code",
   "execution_count": 39,
   "id": "ce580f9f",
   "metadata": {},
   "outputs": [
    {
     "name": "stdout",
     "output_type": "stream",
     "text": [
      "marks 1 in maths 34\n",
      "marks 1 in maths 45\n",
      "marks 1 in maths 78\n",
      "\n",
      "marks 2 in maths 23\n",
      "marks 2 in maths 98\n",
      "marks 2 in maths 54\n",
      "\n",
      "marks 3 in maths 47\n",
      "marks 3 in maths 87\n",
      "marks 3 in maths 56\n"
     ]
    }
   ],
   "source": [
    "f=open('f2.txt','r')\n",
    "i=0\n",
    "while True:\n",
    "    i=i+1\n",
    "    line=f.readline()\n",
    "    if not line:\n",
    "        break\n",
    "    m1=line.split(\",\")[0]\n",
    "    m2=line.split(\",\")[1]\n",
    "    m3=line.split(\",\")[2]\n",
    "    print(f\"marks {i} in maths {m1}\")\n",
    "    print(f\"marks {i} in maths {m2}\")\n",
    "    print(f\"marks {i} in maths {m3}\")"
   ]
  },
  {
   "cell_type": "code",
   "execution_count": null,
   "id": "c935ea5e",
   "metadata": {},
   "outputs": [],
   "source": [
    "# Write a python program to translate a message into secret code language. Use the rules below to translate normal English into secret code language\n",
    "\n",
    "# Coding:\n",
    "# if the word contains atleast 3 characters, remove the first letter and append it at the end\n",
    "#   now append three random characters at the starting and the end\n",
    "# else:\n",
    "#   simply reverse the string\n",
    "\n",
    "# Decoding:\n",
    "# if the word contains less than 3 characters, reverse it\n",
    "# else:\n",
    "#   remove 3 random characters from start and end. Now remove the last letter and append it to the beginning\n",
    "# Your program should ask whether you want to code or decode\n",
    "import random\n",
    "l1 = [\"a\", \"b\", \"c\", \"d\", \"e\", \"f\", \"g\", \"h\", \"i\", \"j\", \"k\", \"l\", \"m\", \"n\", \"o\", \"p\", \"q\", \"r\", \"s\", \"t\", \"u\",\"v\", \"w\", \"x\", 'y', \"z\"]\n",
    "\n",
    "st = input(\"Enter message: \")\n",
    "words = st.split(\" \")\n",
    "coding = input(\"1 for Coding or 0 for Decoding\")\n",
    "coding = True if (coding==\"1\") else False\n",
    "\n",
    "if(coding):\n",
    "  nwords = []\n",
    "  for word in words:\n",
    "    if(len(word)>=3):\n",
    "      r1 = \"dsf\"\n",
    "      r2 = \"jkr\"\n",
    "      stnew = r1+ word[1:] + word[0] + r2\n",
    "      nwords.append(stnew)\n",
    "    else:\n",
    "      nwords.append(word[::-1])\n",
    "  print(\" \".join(nwords))\n",
    "\n",
    "else:\n",
    "  nwords = []\n",
    "  for word in words:\n",
    "    if(len(word)>=3): \n",
    "      stnew = word[3:-3]\n",
    "      stnew = stnew[-1] + stnew[:-1]\n",
    "      nwords.append(stnew)\n",
    "    else:\n",
    "      nwords.append(word[::-1])\n",
    "  print(\" \".join(nwords))\n",
    "    "
   ]
  },
  {
   "cell_type": "code",
   "execution_count": null,
   "id": "ac4b3da8",
   "metadata": {},
   "outputs": [],
   "source": []
  },
  {
   "cell_type": "code",
   "execution_count": null,
   "id": "ee777431",
   "metadata": {},
   "outputs": [],
   "source": []
  }
 ],
 "metadata": {
  "kernelspec": {
   "display_name": "Python 3 (ipykernel)",
   "language": "python",
   "name": "python3"
  },
  "language_info": {
   "codemirror_mode": {
    "name": "ipython",
    "version": 3
   },
   "file_extension": ".py",
   "mimetype": "text/x-python",
   "name": "python",
   "nbconvert_exporter": "python",
   "pygments_lexer": "ipython3",
   "version": "3.10.9"
  }
 },
 "nbformat": 4,
 "nbformat_minor": 5
}
