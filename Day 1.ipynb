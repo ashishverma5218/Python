{
 "cells": [
  {
   "cell_type": "code",
   "execution_count": 1,
   "id": "7ca0f020",
   "metadata": {},
   "outputs": [
    {
     "name": "stdout",
     "output_type": "stream",
     "text": [
      "Hello World\n"
     ]
    }
   ],
   "source": [
    "print(\"Hello World\")"
   ]
  },
  {
   "cell_type": "code",
   "execution_count": 2,
   "id": "99940376",
   "metadata": {},
   "outputs": [
    {
     "name": "stdout",
     "output_type": "stream",
     "text": [
      "5\n"
     ]
    }
   ],
   "source": [
    "print(5)"
   ]
  },
  {
   "cell_type": "code",
   "execution_count": 1,
   "id": "f51258c6",
   "metadata": {},
   "outputs": [
    {
     "data": {
      "text/plain": [
       "'\\nmultiline\\ncomments\\n'"
      ]
     },
     "execution_count": 1,
     "metadata": {},
     "output_type": "execute_result"
    }
   ],
   "source": [
    "#comment\n",
    "'''\n",
    "multiline\n",
    "comments\n",
    "'''"
   ]
  },
  {
   "cell_type": "code",
   "execution_count": null,
   "id": "b2246b3f",
   "metadata": {},
   "outputs": [],
   "source": [
    "# \\n escape sequence character"
   ]
  },
  {
   "cell_type": "code",
   "execution_count": 4,
   "id": "5707433b",
   "metadata": {},
   "outputs": [
    {
     "name": "stdout",
     "output_type": "stream",
     "text": [
      "hey~16~39\n"
     ]
    }
   ],
   "source": [
    "print(\"hey\",16,39, sep=\"~\")"
   ]
  },
  {
   "cell_type": "code",
   "execution_count": 5,
   "id": "4de0a839",
   "metadata": {},
   "outputs": [
    {
     "name": "stdout",
     "output_type": "stream",
     "text": [
      "hey 12 3412"
     ]
    }
   ],
   "source": [
    "print(\"hey\",12,34,end=\"12\")"
   ]
  },
  {
   "cell_type": "code",
   "execution_count": 13,
   "id": "3cb60b9b",
   "metadata": {},
   "outputs": [
    {
     "name": "stdout",
     "output_type": "stream",
     "text": [
      "First Number\n",
      "2\n",
      "Second Number\n",
      "4\n",
      "+,-,*,/,//,%,**\n",
      "%\n",
      "2\n"
     ]
    }
   ],
   "source": [
    "#calculater\n",
    "a=int(input(\"First Number\\n\"))\n",
    "b=int(input(\"Second Number\\n\"))\n",
    "c=input(\"+,-,*,/,//,%,**\\n\")\n",
    "if c==\"+\":\n",
    "    print(a+b)\n",
    "elif c==\"-\":\n",
    "    print(a-b)\n",
    "elif c==\"*\":\n",
    "    print(a*b)\n",
    "elif c==\"/\":\n",
    "    print(a/b)\n",
    "elif c==\"//\":\n",
    "    print(a//b)\n",
    "elif c==\"%\":\n",
    "    print(a%b)\n",
    "elif c==\"%\":\n",
    "    print(a**b)"
   ]
  },
  {
   "cell_type": "code",
   "execution_count": 2,
   "id": "82883688",
   "metadata": {},
   "outputs": [
    {
     "name": "stdout",
     "output_type": "stream",
     "text": [
      "12\n",
      "3\n"
     ]
    }
   ],
   "source": [
    "a=\"1\"\n",
    "b=\"2\"\n",
    "print(a+b)\n",
    "#typecasting--change data type\n",
    "print(int(a)+int(b))"
   ]
  },
  {
   "cell_type": "code",
   "execution_count": null,
   "id": "910afcd6",
   "metadata": {},
   "outputs": [],
   "source": []
  }
 ],
 "metadata": {
  "kernelspec": {
   "display_name": "Python 3 (ipykernel)",
   "language": "python",
   "name": "python3"
  },
  "language_info": {
   "codemirror_mode": {
    "name": "ipython",
    "version": 3
   },
   "file_extension": ".py",
   "mimetype": "text/x-python",
   "name": "python",
   "nbconvert_exporter": "python",
   "pygments_lexer": "ipython3",
   "version": "3.10.9"
  }
 },
 "nbformat": 4,
 "nbformat_minor": 5
}
