{
 "cells": [
  {
   "cell_type": "code",
   "execution_count": 1,
   "id": "ba2fc0dd",
   "metadata": {},
   "outputs": [
    {
     "name": "stdout",
     "output_type": "stream",
     "text": [
      "ashish\n"
     ]
    }
   ],
   "source": [
    "#stings\n",
    "name = \"ashish\"\n",
    "print(name)"
   ]
  },
  {
   "cell_type": "code",
   "execution_count": 2,
   "id": "68791934",
   "metadata": {},
   "outputs": [
    {
     "name": "stdout",
     "output_type": "stream",
     "text": [
      "hey\"Ashish\"\n"
     ]
    }
   ],
   "source": [
    "apple = 'hey\"Ashish\"'\n",
    "print(apple)"
   ]
  },
  {
   "cell_type": "code",
   "execution_count": 3,
   "id": "292b11e9",
   "metadata": {},
   "outputs": [
    {
     "data": {
      "text/plain": [
       "'How Artificial Intelligence Works,AI works by combining large amounts of data with fast,iterative processing and intelligent algorithms,allowing the software to learn automatically from patterns or features in the data.'"
      ]
     },
     "execution_count": 3,
     "metadata": {},
     "output_type": "execute_result"
    }
   ],
   "source": [
    "a = \"\"\"How Artificial Intelligence Works,AI works by combining large amounts of data with fast,iterative processing and intelligent algorithms,allowing the software to learn automatically from patterns or features in the data.\"\"\"\n",
    "a"
   ]
  },
  {
   "cell_type": "code",
   "execution_count": 4,
   "id": "759d38e1",
   "metadata": {},
   "outputs": [
    {
     "name": "stdout",
     "output_type": "stream",
     "text": [
      "a\n"
     ]
    }
   ],
   "source": [
    "print(name[0])"
   ]
  },
  {
   "cell_type": "code",
   "execution_count": 5,
   "id": "9755492a",
   "metadata": {},
   "outputs": [
    {
     "name": "stdout",
     "output_type": "stream",
     "text": [
      "a\n",
      "s\n",
      "h\n",
      "i\n",
      "s\n",
      "h\n"
     ]
    }
   ],
   "source": [
    "for ch in name:\n",
    "    print(ch)"
   ]
  },
  {
   "cell_type": "code",
   "execution_count": 6,
   "id": "ff9f1ca6",
   "metadata": {},
   "outputs": [
    {
     "name": "stdout",
     "output_type": "stream",
     "text": [
      "harry\n",
      "13\n"
     ]
    }
   ],
   "source": [
    "names=\"harry,shubham\"\n",
    "print(names[0:5])\n",
    "print(len(names))"
   ]
  },
  {
   "cell_type": "code",
   "execution_count": 7,
   "id": "3957a8c3",
   "metadata": {},
   "outputs": [
    {
     "name": "stdout",
     "output_type": "stream",
     "text": [
      "ar\n"
     ]
    }
   ],
   "source": [
    "nm=\"harry\"\n",
    "print(nm[-4:-2])"
   ]
  },
  {
   "cell_type": "code",
   "execution_count": 8,
   "id": "e09a70b5",
   "metadata": {},
   "outputs": [
    {
     "name": "stdout",
     "output_type": "stream",
     "text": [
      "HARRY\n"
     ]
    }
   ],
   "source": [
    "#strings are immutable\n",
    "#copy of string\n",
    "print(nm.upper())"
   ]
  },
  {
   "cell_type": "code",
   "execution_count": 9,
   "id": "0cf18b2f",
   "metadata": {},
   "outputs": [
    {
     "name": "stdout",
     "output_type": "stream",
     "text": [
      "harry\n"
     ]
    }
   ],
   "source": [
    "print(nm.lower())"
   ]
  },
  {
   "cell_type": "code",
   "execution_count": 10,
   "id": "a2a469e5",
   "metadata": {},
   "outputs": [
    {
     "name": "stdout",
     "output_type": "stream",
     "text": [
      "!!harry\n"
     ]
    }
   ],
   "source": [
    "nm=\"!!harry!!!!!\"\n",
    "print(nm.rstrip(\"!\"))"
   ]
  },
  {
   "cell_type": "code",
   "execution_count": 11,
   "id": "94bac9b4",
   "metadata": {},
   "outputs": [
    {
     "name": "stdout",
     "output_type": "stream",
     "text": [
      "john\n"
     ]
    }
   ],
   "source": [
    "nm=\"harry\"\n",
    "print(nm.replace(\"harry\",\"john\"))"
   ]
  },
  {
   "cell_type": "code",
   "execution_count": 12,
   "id": "176f15f0",
   "metadata": {},
   "outputs": [
    {
     "name": "stdout",
     "output_type": "stream",
     "text": [
      "['harry', '', '!!!!', 'kuldeep']\n"
     ]
    }
   ],
   "source": [
    "nm=\"harry  !!!! kuldeep\"\n",
    "print(nm.split(\" \"))"
   ]
  },
  {
   "cell_type": "code",
   "execution_count": 13,
   "id": "9fa5fbf7",
   "metadata": {},
   "outputs": [
    {
     "name": "stdout",
     "output_type": "stream",
     "text": [
      "Intro to js\n"
     ]
    }
   ],
   "source": [
    "b=\"intro to js\"\n",
    "print(b.capitalize())"
   ]
  },
  {
   "cell_type": "code",
   "execution_count": 14,
   "id": "d1c6fb04",
   "metadata": {},
   "outputs": [
    {
     "name": "stdout",
     "output_type": "stream",
     "text": [
      "                   intro to js                    \n"
     ]
    }
   ],
   "source": [
    "print(b.center(50))"
   ]
  },
  {
   "cell_type": "code",
   "execution_count": 15,
   "id": "2e864d7c",
   "metadata": {},
   "outputs": [
    {
     "name": "stdout",
     "output_type": "stream",
     "text": [
      "1\n"
     ]
    }
   ],
   "source": [
    "print(nm.count(\"harry\"))"
   ]
  },
  {
   "cell_type": "code",
   "execution_count": 16,
   "id": "0a2cd211",
   "metadata": {},
   "outputs": [
    {
     "name": "stdout",
     "output_type": "stream",
     "text": [
      "False\n"
     ]
    }
   ],
   "source": [
    "print(nm.endswith(\"!!!\"))"
   ]
  },
  {
   "cell_type": "code",
   "execution_count": 17,
   "id": "238ffe23",
   "metadata": {},
   "outputs": [
    {
     "name": "stdout",
     "output_type": "stream",
     "text": [
      "6\n"
     ]
    }
   ],
   "source": [
    "print(b.find(\"to\"))"
   ]
  },
  {
   "cell_type": "code",
   "execution_count": 18,
   "id": "fb687119",
   "metadata": {},
   "outputs": [
    {
     "name": "stdout",
     "output_type": "stream",
     "text": [
      "6\n"
     ]
    }
   ],
   "source": [
    "print(b.index(\"to\"))"
   ]
  },
  {
   "cell_type": "code",
   "execution_count": 19,
   "id": "173c09a6",
   "metadata": {},
   "outputs": [
    {
     "name": "stdout",
     "output_type": "stream",
     "text": [
      "False\n"
     ]
    }
   ],
   "source": [
    "print(b.isalnum())"
   ]
  },
  {
   "cell_type": "code",
   "execution_count": 20,
   "id": "5fb299a2",
   "metadata": {},
   "outputs": [
    {
     "name": "stdout",
     "output_type": "stream",
     "text": [
      "False\n"
     ]
    }
   ],
   "source": [
    "print(b.isalpha())"
   ]
  },
  {
   "cell_type": "code",
   "execution_count": 21,
   "id": "ecacc332",
   "metadata": {},
   "outputs": [
    {
     "name": "stdout",
     "output_type": "stream",
     "text": [
      "True\n"
     ]
    }
   ],
   "source": [
    "print(b.islower())"
   ]
  },
  {
   "cell_type": "code",
   "execution_count": 22,
   "id": "abf6a646",
   "metadata": {},
   "outputs": [
    {
     "name": "stdout",
     "output_type": "stream",
     "text": [
      "True\n"
     ]
    }
   ],
   "source": [
    "print(b.isprintable())"
   ]
  },
  {
   "cell_type": "code",
   "execution_count": 23,
   "id": "92b46db4",
   "metadata": {},
   "outputs": [
    {
     "name": "stdout",
     "output_type": "stream",
     "text": [
      "False\n"
     ]
    }
   ],
   "source": [
    "print(b.istitle())"
   ]
  },
  {
   "cell_type": "code",
   "execution_count": 24,
   "id": "8681b1e9",
   "metadata": {},
   "outputs": [
    {
     "name": "stdout",
     "output_type": "stream",
     "text": [
      "False\n"
     ]
    }
   ],
   "source": [
    "print(b.isupper())"
   ]
  },
  {
   "cell_type": "code",
   "execution_count": 25,
   "id": "b3637cf6",
   "metadata": {},
   "outputs": [
    {
     "name": "stdout",
     "output_type": "stream",
     "text": [
      "True\n"
     ]
    }
   ],
   "source": [
    "print(b.startswith(\"intro\"))"
   ]
  },
  {
   "cell_type": "code",
   "execution_count": 26,
   "id": "b203daff",
   "metadata": {},
   "outputs": [
    {
     "name": "stdout",
     "output_type": "stream",
     "text": [
      "INTRO TO JS\n"
     ]
    }
   ],
   "source": [
    "print(b.swapcase())"
   ]
  },
  {
   "cell_type": "code",
   "execution_count": 27,
   "id": "09dd0f01",
   "metadata": {},
   "outputs": [
    {
     "name": "stdout",
     "output_type": "stream",
     "text": [
      "Intro To Js\n"
     ]
    }
   ],
   "source": [
    "print(b.title())"
   ]
  },
  {
   "cell_type": "code",
   "execution_count": 28,
   "id": "87dad2b2",
   "metadata": {},
   "outputs": [
    {
     "name": "stdout",
     "output_type": "stream",
     "text": [
      "Enter your age 23\n",
      "you can drive\n"
     ]
    }
   ],
   "source": [
    "age = int(input(\"Enter your age \"))\n",
    "if(age<18):\n",
    "    print(\"you can not drive\")\n",
    "elif(age>18):\n",
    "    print(\"you can drive\")"
   ]
  },
  {
   "cell_type": "code",
   "execution_count": 29,
   "id": "01ca9e0e",
   "metadata": {},
   "outputs": [],
   "source": [
    "import time"
   ]
  },
  {
   "cell_type": "code",
   "execution_count": 30,
   "id": "88520e21",
   "metadata": {},
   "outputs": [
    {
     "name": "stdout",
     "output_type": "stream",
     "text": [
      "10:21:18\n",
      "10\n",
      "21\n",
      "18\n"
     ]
    }
   ],
   "source": [
    "t=time.strftime('%H:%M:%S')\n",
    "print(t)\n",
    "t1=int(time.strftime('%H'))\n",
    "print(t1)\n",
    "t=int(time.strftime('%M'))\n",
    "print(t)\n",
    "t=int(time.strftime('%S'))\n",
    "print(t)"
   ]
  },
  {
   "cell_type": "code",
   "execution_count": 31,
   "id": "e529d454",
   "metadata": {},
   "outputs": [
    {
     "name": "stdout",
     "output_type": "stream",
     "text": [
      "good morning\n"
     ]
    }
   ],
   "source": [
    "#greet according to time\n",
    "if(t1<12):\n",
    "    print(\"good morning\")\n",
    "elif(t1>12<=4):\n",
    "    print(\"good afternoon\")\n",
    "elif(t1>=4):\n",
    "    print(\"good evening\")\n",
    "elif(t>=8):\n",
    "    print(\"good night\")"
   ]
  },
  {
   "cell_type": "code",
   "execution_count": 32,
   "id": "874b8743",
   "metadata": {},
   "outputs": [
    {
     "name": "stdout",
     "output_type": "stream",
     "text": [
      "enter value of x:3\n",
      "3\n"
     ]
    }
   ],
   "source": [
    "#match case\n",
    "x = int(input(\"enter value of x:\"))\n",
    "match x:\n",
    "    case 0:\n",
    "        print(\"x is zero\")\n",
    "    case 4:\n",
    "        print(\"x is four\")\n",
    "#     case _ if x!=90:\n",
    "#         print(x,\"is not 90\")\n",
    "\n",
    "    #default case\n",
    "    case _:\n",
    "        print(x)"
   ]
  },
  {
   "cell_type": "code",
   "execution_count": 33,
   "id": "2ef81716",
   "metadata": {},
   "outputs": [
    {
     "name": "stdout",
     "output_type": "stream",
     "text": [
      "1\n",
      "3\n",
      "5\n",
      "7\n",
      "9\n",
      "11\n",
      "13\n",
      "15\n",
      "17\n",
      "19\n"
     ]
    }
   ],
   "source": [
    "#loops\n",
    "for k in range(1,21,2):\n",
    "    print(k)"
   ]
  },
  {
   "cell_type": "code",
   "execution_count": 38,
   "id": "dca3f3b2",
   "metadata": {},
   "outputs": [
    {
     "name": "stdout",
     "output_type": "stream",
     "text": [
      "5 * 1 = 5\n",
      "5 * 2 = 10\n",
      "5 * 3 = 15\n",
      "5 * 4 = 20\n",
      "5 * 5 = 25\n",
      "5 * 6 = 30\n",
      "5 * 7 = 35\n",
      "5 * 8 = 40\n",
      "5 * 9 = 45\n",
      "5 * 10 = 50\n"
     ]
    }
   ],
   "source": [
    "#table\n",
    "a = 5\n",
    "for i in range(1,11):\n",
    "    print(a,\"*\",i,\"=\",a*i)"
   ]
  },
  {
   "cell_type": "code",
   "execution_count": 37,
   "id": "1dce5e15",
   "metadata": {},
   "outputs": [
    {
     "name": "stdout",
     "output_type": "stream",
     "text": [
      "0\n",
      "1\n",
      "2\n"
     ]
    }
   ],
   "source": [
    "i = 0\n",
    "while(i<3):\n",
    "    print(i)\n",
    "    i=i+1"
   ]
  },
  {
   "cell_type": "code",
   "execution_count": 39,
   "id": "8548b1ca",
   "metadata": {},
   "outputs": [
    {
     "name": "stdout",
     "output_type": "stream",
     "text": [
      "5\n",
      "4\n",
      "3\n",
      "2\n",
      "1\n"
     ]
    }
   ],
   "source": [
    "i = 5\n",
    "while(i>0):\n",
    "    print(i)\n",
    "    i=i-1"
   ]
  },
  {
   "cell_type": "code",
   "execution_count": 41,
   "id": "b55fe7b3",
   "metadata": {},
   "outputs": [
    {
     "name": "stdout",
     "output_type": "stream",
     "text": [
      "5 X 0 = 0\n",
      "5 X 1 = 5\n",
      "5 X 2 = 10\n",
      "5 X 3 = 15\n",
      "5 X 4 = 20\n",
      "5 X 5 = 25\n",
      "5 X 6 = 30\n",
      "5 X 7 = 35\n",
      "5 X 8 = 40\n",
      "5 X 9 = 45\n",
      "skip itration\n",
      "5 X 11 = 55\n"
     ]
    }
   ],
   "source": [
    "#continue\n",
    "for i in range(12):\n",
    "    if(i==10):\n",
    "        print(\"skip itration\")\n",
    "        continue\n",
    "    print(\"5 X\",i,\"=\",5*i)"
   ]
  },
  {
   "cell_type": "code",
   "execution_count": 42,
   "id": "345f8828",
   "metadata": {},
   "outputs": [
    {
     "name": "stdout",
     "output_type": "stream",
     "text": [
      "5 X 0 = 0\n",
      "5 X 1 = 5\n",
      "5 X 2 = 10\n",
      "5 X 3 = 15\n",
      "5 X 4 = 20\n",
      "5 X 5 = 25\n",
      "5 X 6 = 30\n",
      "5 X 7 = 35\n",
      "5 X 8 = 40\n",
      "5 X 9 = 45\n",
      "skip itration\n"
     ]
    }
   ],
   "source": [
    "#break\n",
    "for i in range(12):\n",
    "    if(i==10):\n",
    "        print(\"skip itration\")\n",
    "        break\n",
    "    print(\"5 X\",i,\"=\",5*i)"
   ]
  },
  {
   "cell_type": "code",
   "execution_count": 45,
   "id": "aedfc5e2",
   "metadata": {},
   "outputs": [
    {
     "name": "stdout",
     "output_type": "stream",
     "text": [
      "4.235294117647059\n"
     ]
    }
   ],
   "source": [
    "#functions- block of code , dont need to write same code again and again \n",
    "def calculategmean(a,b):\n",
    "    mean = (a*b)/(a+b)\n",
    "    print(mean)\n",
    "    \n",
    "calculategmean(8,9)"
   ]
  },
  {
   "cell_type": "code",
   "execution_count": 48,
   "id": "454360b2",
   "metadata": {},
   "outputs": [
    {
     "name": "stdout",
     "output_type": "stream",
     "text": [
      "b is greater\n"
     ]
    }
   ],
   "source": [
    "def isgreater(a,b):\n",
    "    if(a>b):\n",
    "        print(\"a is greater\")\n",
    "    else:\n",
    "        print(\"b is greater\")\n",
    "\n",
    "        \n",
    "isgreater(4,9)"
   ]
  },
  {
   "cell_type": "code",
   "execution_count": null,
   "id": "a5db00a1",
   "metadata": {},
   "outputs": [],
   "source": []
  }
 ],
 "metadata": {
  "kernelspec": {
   "display_name": "Python 3 (ipykernel)",
   "language": "python",
   "name": "python3"
  },
  "language_info": {
   "codemirror_mode": {
    "name": "ipython",
    "version": 3
   },
   "file_extension": ".py",
   "mimetype": "text/x-python",
   "name": "python",
   "nbconvert_exporter": "python",
   "pygments_lexer": "ipython3",
   "version": "3.10.9"
  }
 },
 "nbformat": 4,
 "nbformat_minor": 5
}
