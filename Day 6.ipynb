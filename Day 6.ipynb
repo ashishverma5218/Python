{
 "cells": [
  {
   "cell_type": "code",
   "execution_count": 3,
   "id": "be125e46",
   "metadata": {},
   "outputs": [
    {
     "name": "stdout",
     "output_type": "stream",
     "text": [
      "10\n",
      "4.5\n"
     ]
    }
   ],
   "source": [
    "#lamda function - a function without name and small syntax\n",
    "\n",
    "# def double(x):\n",
    "#     return x*2\n",
    "# print(double(5))\n",
    "\n",
    "double = lambda x: x*2\n",
    "print(double(5))\n",
    "avg = lambda x,y: (x+y)/2\n",
    "print(avg(4,5))"
   ]
  },
  {
   "cell_type": "code",
   "execution_count": 4,
   "id": "06cedf00",
   "metadata": {},
   "outputs": [
    {
     "name": "stdout",
     "output_type": "stream",
     "text": [
      "14\n"
     ]
    }
   ],
   "source": [
    "#function as a argument\n",
    "def apply(fx,value):\n",
    "    return 6+fx(value)\n",
    "\n",
    "print(apply(lambda x: x*x*x,2))"
   ]
  },
  {
   "cell_type": "code",
   "execution_count": 5,
   "id": "91220c94",
   "metadata": {},
   "outputs": [
    {
     "name": "stdout",
     "output_type": "stream",
     "text": [
      "[8, 27, 64, 125, 216, 343, 512, 729, 1000]\n"
     ]
    }
   ],
   "source": [
    "#map function\n",
    "def cube(x):\n",
    "    return x*x*x\n",
    "l=[2,3,4,5,6,7,8,9,10]\n",
    "newl = list(map(cube,l))\n",
    "print(newl)"
   ]
  },
  {
   "cell_type": "code",
   "execution_count": 6,
   "id": "05a99823",
   "metadata": {},
   "outputs": [
    {
     "name": "stdout",
     "output_type": "stream",
     "text": [
      "[5, 6, 7, 8, 9, 10]\n"
     ]
    }
   ],
   "source": [
    "#filter - filter based on your condition\n",
    "\n",
    "def filter_function(a):\n",
    "    return a>4\n",
    "nl=list(filter(filter_function,l))\n",
    "print(nl)"
   ]
  },
  {
   "cell_type": "code",
   "execution_count": 8,
   "id": "a6afb8bc",
   "metadata": {},
   "outputs": [
    {
     "name": "stdout",
     "output_type": "stream",
     "text": [
      "15\n"
     ]
    }
   ],
   "source": [
    "#reduce\n",
    "from functools import reduce\n",
    "numbers=[1,2,3,4,5]\n",
    "def mysum(x,y):\n",
    "    return x+y\n",
    "sum = reduce(mysum,numbers)\n",
    "print(sum)"
   ]
  },
  {
   "cell_type": "code",
   "execution_count": 15,
   "id": "e77b06cd",
   "metadata": {},
   "outputs": [
    {
     "name": "stdout",
     "output_type": "stream",
     "text": [
      "False\n",
      "True \n",
      " \n",
      "True\n",
      "True\n"
     ]
    }
   ],
   "source": [
    "# (is or ==) keyword difference\n",
    "a=[1,2,3]\n",
    "b=[1,2,3]\n",
    "\n",
    "print(a is b)  # exact location of object -- identity compare\n",
    "print(a == b, \"\\n \")  # value \n",
    "\n",
    "\n",
    "a=3\n",
    "b=3\n",
    "print(a is b) # because it point the same memory location\n",
    "print(a == b)  "
   ]
  },
  {
   "cell_type": "code",
   "execution_count": 20,
   "id": "cb63979a",
   "metadata": {},
   "outputs": [
    {
     "name": "stdout",
     "output_type": "stream",
     "text": [
      "harry\n",
      "shubham\n",
      "shubham is a soft Eng\n"
     ]
    }
   ],
   "source": [
    "#class and objects\n",
    "class person:\n",
    "    name=\"harry\"\n",
    "    occupation=\"soft Eng\"\n",
    "    networth=10\n",
    "    def info(self):\n",
    "        print(f\"{self.name} is a {self.occupation}\")\n",
    "a=person()\n",
    "print(a.name)\n",
    "a.name=\"shubham\"\n",
    "print(a.name)\n",
    "a.info()"
   ]
  },
  {
   "cell_type": "code",
   "execution_count": 26,
   "id": "52877006",
   "metadata": {},
   "outputs": [
    {
     "name": "stdout",
     "output_type": "stream",
     "text": [
      "hey i am a person\n",
      "harry is a developer\n"
     ]
    }
   ],
   "source": [
    "#constructor -- create and initialise an object with keyword-- __init__\n",
    "#two types - default and parameterized\n",
    "class person:\n",
    "    def __init__(self,name,o):\n",
    "        print(\"hey i am a person\")\n",
    "        self.name=name\n",
    "        self.occ=o\n",
    "    \n",
    "    def info(self):\n",
    "        print(f\"{self.name} is a {self.occ}\")\n",
    "        \n",
    "a=person(\"harry\",\"developer\")\n",
    "a.info()"
   ]
  },
  {
   "cell_type": "code",
   "execution_count": 29,
   "id": "788b3fa6",
   "metadata": {},
   "outputs": [
    {
     "name": "stdout",
     "output_type": "stream",
     "text": [
      "good morning\n",
      "hello world\n",
      "thanks\n"
     ]
    }
   ],
   "source": [
    "#Decorater-- modify function\n",
    "def greet(fx):\n",
    "    def mfx():\n",
    "        print(\"good morning\")\n",
    "        fx()\n",
    "        print(\"thanks\")\n",
    "    return mfx\n",
    "@greet\n",
    "\n",
    "def hello():\n",
    "    print(\"hello world\")\n",
    "hello()"
   ]
  },
  {
   "cell_type": "code",
   "execution_count": 34,
   "id": "b23b002f",
   "metadata": {},
   "outputs": [
    {
     "name": "stdout",
     "output_type": "stream",
     "text": [
      "good morning\n",
      "6\n",
      "thanks\n"
     ]
    }
   ],
   "source": [
    "#with argumnets\n",
    "# (*args) - take argument as tuple\n",
    "# (**kwargs) - take argument as dictionary\n",
    "def greet(fx):\n",
    "    def mfx(*args,**kwargs):\n",
    "        print(\"good morning\")\n",
    "        fx(*args,**kwargs)\n",
    "        print(\"thanks\")\n",
    "    return mfx\n",
    "\n",
    "def add(a,b):\n",
    "    print(a+b)\n",
    "greet(add)(2,4)"
   ]
  },
  {
   "cell_type": "code",
   "execution_count": 35,
   "id": "ed592e40",
   "metadata": {},
   "outputs": [
    {
     "name": "stdout",
     "output_type": "stream",
     "text": [
      "67.0\n",
      "Value is 6.7\n"
     ]
    }
   ],
   "source": [
    "# getters and setters\n",
    "class MyClass:\n",
    "  def __init__(self, value):\n",
    "      self._value = value\n",
    "    \n",
    "  def show(self):\n",
    "    print(f\"Value is {self._value}\")\n",
    "    \n",
    "  @property\n",
    "  def ten_value(self):\n",
    "      return 10* self._value\n",
    "    \n",
    "  @ten_value.setter\n",
    "  def ten_value(self, new_value):\n",
    "      self._value = new_value/10\n",
    "\n",
    "obj = MyClass(10)\n",
    "obj.ten_value = 67\n",
    "print(obj.ten_value)\n",
    "obj.show()"
   ]
  },
  {
   "cell_type": "code",
   "execution_count": null,
   "id": "31bb2795",
   "metadata": {},
   "outputs": [
    {
     "name": "stdout",
     "output_type": "stream",
     "text": [
      "choose one of them--(Snake,Water,Gun): gun\n",
      "You choose gun and computer choose gun\n",
      "Both players selected gun. It's a tie!\n"
     ]
    }
   ],
   "source": [
    "# Game - snake water gun\n",
    "import random\n",
    "while True:\n",
    "    action = [\"snake\",\"water\",\"gun\"]\n",
    "    user_input = input(\"choose one of them--(Snake,Water,Gun): \").lower()\n",
    "    computer_action = random.choice(action)\n",
    "    print(f\"You choose {user_input} and computer choose {computer_action}\")\n",
    "    if user_input == computer_action:\n",
    "        print(f\"Both players selected {user_input}. It's a tie!\")\n",
    "    elif user_input == \"snake\":\n",
    "        if computer_action == \"water\":\n",
    "            print(\"snake drink water! You win!\")\n",
    "        else:\n",
    "            print(\"Gun kill snake! You lose.\")\n",
    "    elif user_input == \"water\":\n",
    "        if computer_action == \"gun\":\n",
    "            print(\"water destroy gun! You win!\")\n",
    "        else:\n",
    "            print(\"snake drink water! You lose.\")\n",
    "    elif user_input == \"gun\":\n",
    "        if computer_action == \"snake\":\n",
    "            print(\"gun kill snake! You win!\")\n",
    "        else:\n",
    "            print(\"water destroy gun! You lose.\")\n",
    "\n",
    "    play_again = input(\"play again (Y/N): \")\n",
    "    if play_again.lower() != \"y\":\n",
    "        break"
   ]
  },
  {
   "cell_type": "code",
   "execution_count": null,
   "id": "96e9c517",
   "metadata": {},
   "outputs": [],
   "source": []
  }
 ],
 "metadata": {
  "kernelspec": {
   "display_name": "Python 3 (ipykernel)",
   "language": "python",
   "name": "python3"
  },
  "language_info": {
   "codemirror_mode": {
    "name": "ipython",
    "version": 3
   },
   "file_extension": ".py",
   "mimetype": "text/x-python",
   "name": "python",
   "nbconvert_exporter": "python",
   "pygments_lexer": "ipython3",
   "version": "3.10.9"
  }
 },
 "nbformat": 4,
 "nbformat_minor": 5
}
